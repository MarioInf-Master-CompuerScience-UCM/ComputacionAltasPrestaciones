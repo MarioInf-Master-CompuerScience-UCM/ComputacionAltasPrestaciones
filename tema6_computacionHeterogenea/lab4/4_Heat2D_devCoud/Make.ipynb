{
 "cells": [
  {
   "cell_type": "markdown",
   "id": "4dc4ac04-cecb-4457-8309-628be3c4c841",
   "metadata": {},
   "source": [
    "Compilación y ejecución:"
   ]
  },
  {
   "cell_type": "code",
   "execution_count": 73,
   "id": "4cebb152-3381-4066-a028-5f258184b1a6",
   "metadata": {
    "tags": []
   },
   "outputs": [
    {
     "name": "stdout",
     "output_type": "stream",
     "text": [
      "Job has been submitted to Intel(R) DevCloud and will execute soon.\n",
      "\n",
      " If you do not see result in 60 seconds, please restart the Jupyter kernel:\n",
      " Kernel -> 'Restart Kernel and Clear All Outputs...' and then try again\n",
      "\n",
      "Job ID                    Name             User            Time Use S Queue\n",
      "------------------------- ---------------- --------------- -------- - -----\n",
      "2111065.v-qsvr-1           ...ub-singleuser u180325         00:00:49 R jupyterhub     \n",
      "2111189.v-qsvr-1           run.sh           u180325                0 Q batch          \n",
      "\n",
      "Waiting for Output ██████████ Done⬇\n",
      "\n",
      "########################################################################\n",
      "#      Date:           Fri 30 Dec 2022 04:37:53 PM PST\n",
      "#    Job ID:           2111189.v-qsvr-1.aidevcloud\n",
      "#      User:           u180325\n",
      "# Resources:           cput=75:00:00,neednodes=1:gpu:ppn=2,nodes=1:gpu:ppn=2,walltime=06:00:00\n",
      "########################################################################\n",
      "\n",
      "## u180325 is running OMP_Offload Module1 -- Intro to OpenMP offload - 1 of 1 heat.c/f90\n",
      "########## Compiling\n",
      "########## Executing\n",
      "\n",
      "########################################################################\n",
      "# End of output for job 2111189.v-qsvr-1.aidevcloud\n",
      "# Date: Fri 30 Dec 2022 04:37:59 PM PST\n",
      "########################################################################\n",
      "\n",
      "heat.c:64:5: warning: 'distribute parallel loop' construct, in a declare target function, was interpreted as 'distribute', for calls from target regions. [-Wpass-failed=openmp]\n",
      "    #pragma omp target teams distribute parallel for collapse(2) private(tempIndex, tempIndex_lastY, tempIndex_nexttY, y, x)\n",
      "    ^\n",
      "heat.c:64:5: warning: 'teams' construct, in a declare target function, was ignored for calls from target regions. [-Wpass-failed=openmp]\n",
      "2 warnings generated.\n",
      "Libomptarget error: Unable to generate entries table for device id 0.\n",
      "Libomptarget error: Failed to init globals on device 0\n",
      "Libomptarget error: Run with\n",
      "Libomptarget error: LIBOMPTARGET_DEBUG=1 to display basic debug information.\n",
      "Libomptarget error: LIBOMPTARGET_DEBUG=2 to display calls to the compute runtime.\n",
      "Libomptarget error: LIBOMPTARGET_INFO=4 to dump host-target pointer mappings.\n",
      "heat.c:143:143: Libomptarget fatal error 1: failure of target construct while offloading is mandatory\n",
      "/var/spool/torque/mom_priv/jobs/2111189.v-qsvr-1.aidevcloud.SC: line 10: 3943417 Aborted                 ./heat\n",
      "Job Completed in 10 seconds.\n"
     ]
    }
   ],
   "source": [
    "! chmod 755 q; chmod 755 run.sh;if [ -x \"$(command -v qsub)\" ]; then ./q run.sh; else ./run.sh; fi"
   ]
  },
  {
   "cell_type": "markdown",
   "id": "84b82d14-b186-4222-8135-6845204232ed",
   "metadata": {},
   "source": [
    "Limpiar carpeta:"
   ]
  },
  {
   "cell_type": "code",
   "execution_count": 74,
   "id": "c55d6276-46b8-47c7-b2b6-9bd204b1df74",
   "metadata": {},
   "outputs": [],
   "source": [
    "! \trm -rf *.o *opt* *yaml *png heat"
   ]
  },
  {
   "cell_type": "code",
   "execution_count": null,
   "id": "608192e4-df77-430e-9050-ff662a745cf8",
   "metadata": {},
   "outputs": [],
   "source": []
  },
  {
   "cell_type": "code",
   "execution_count": null,
   "id": "be75b0f8-52d0-4c1d-815c-840732678da5",
   "metadata": {},
   "outputs": [],
   "source": []
  }
 ],
 "metadata": {
  "kernelspec": {
   "display_name": "Python 3 (Intel® oneAPI 2023.0)",
   "language": "python",
   "name": "c009-intel_distribution_of_python_3_oneapi-beta05-python"
  },
  "language_info": {
   "codemirror_mode": {
    "name": "ipython",
    "version": 3
   },
   "file_extension": ".py",
   "mimetype": "text/x-python",
   "name": "python",
   "nbconvert_exporter": "python",
   "pygments_lexer": "ipython3",
   "version": "3.9.15"
  }
 },
 "nbformat": 4,
 "nbformat_minor": 5
}
